{
 "cells": [
  {
   "cell_type": "code",
   "execution_count": 4,
   "metadata": {},
   "outputs": [],
   "source": [
    "PATH_TO_FILE = \"data.csv\""
   ]
  },
  {
   "cell_type": "code",
   "execution_count": 5,
   "metadata": {},
   "outputs": [],
   "source": [
    "import pandas as pd\n",
    "import requests\n",
    "import json\n",
    "import matplotlib.pyplot as plt"
   ]
  },
  {
   "cell_type": "code",
   "execution_count": 6,
   "metadata": {},
   "outputs": [],
   "source": [
    "data = pd.read_csv(PATH_TO_FILE)\n",
    "id = data[\"PMID\"]\n",
    "abstract = data[\"abstract\"]\n",
    "all_values = []\n",
    "accuracy_values = []"
   ]
  },
  {
   "cell_type": "code",
   "execution_count": 7,
   "metadata": {},
   "outputs": [],
   "source": [
    "UNICODE_CHARS = {u'\\u2009':' ', u'\\u202f':' ', u'\\u200a':' '}"
   ]
  },
  {
   "cell_type": "code",
   "execution_count": 8,
   "metadata": {},
   "outputs": [],
   "source": [
    "def remove_unicode(text):\n",
    "    for u_char, repl_char in UNICODE_CHARS.items():\n",
    "        text = text.replace(u_char, repl_char)\n",
    "    return text\n",
    "\n",
    "def escape_chars(text):\n",
    "    return text.replace(\"\\\\\", \"\\\\\\\\\").replace(\"\\\\\\\"\", \"\\\\\\\\\\\"\")"
   ]
  },
  {
   "cell_type": "code",
   "execution_count": 9,
   "metadata": {},
   "outputs": [],
   "source": [
    "for i in range(len(abstract)):\n",
    "    res = requests.post('http://localhost:8060/service/processQuantityText', files = { 'text' :remove_unicode(abstract[i])})\n",
    "    info = json.loads(escape_chars(res.text), strict=False)\n",
    "    if 'measurements' not in info:\n",
    "        all_values.append(dict())\n",
    "        continue\n",
    "    for val in info['measurements']:\n",
    "        if val['type'] == 'value':\n",
    "            val['pmid']=id[i] \n",
    "            all_values.append(val)"
   ]
  },
  {
   "cell_type": "code",
   "execution_count": 10,
   "metadata": {},
   "outputs": [],
   "source": [
    "def get_values_for_measure(measure):\n",
    "    measure_values = []\n",
    "    for t in all_values:\n",
    "        if 'quantified' in t and 'normalizedName' in t['quantified'] and t['quantified']['normalizedName'] == measure:\n",
    "            measure_values.append(t)\n",
    "    return measure_values"
   ]
  },
  {
   "cell_type": "code",
   "execution_count": 11,
   "metadata": {},
   "outputs": [],
   "source": [
    "accuracy_values = get_values_for_measure('accuracy')\n",
    "pd_acc_values = pd.json_normalize(accuracy_values)"
   ]
  },
  {
   "cell_type": "code",
   "execution_count": 12,
   "metadata": {},
   "outputs": [],
   "source": [
    "normilize_acc_values = pd_acc_values[['pmid', 'quantity.normalizedQuantity']]"
   ]
  },
  {
   "cell_type": "code",
   "execution_count": 13,
   "metadata": {},
   "outputs": [
    {
     "data": {
      "image/png": "[encoded data removed]",
      "text/plain": [
       "<Figure size 432x288 with 1 Axes>"
      ]
     },
     "metadata": {
      "needs_background": "light"
     },
     "output_type": "display_data"
    }
   ],
   "source": [
    "accuracy_hist = normilize_acc_values['quantity.normalizedQuantity'].hist(bins=100)\n",
    "plt.show(accuracy_hist)"
   ]
  }
 ],
 "metadata": {
  "interpreter": {
   "hash": "be8c6b8f2029221d3093d6d88b6e2fd6e2ba87d82ec3af0ec0856619415fff68"
  },
  "kernelspec": {
   "display_name": "Python 3.8.8 ('base')",
   "language": "python",
   "name": "python3"
  },
  "language_info": {
   "codemirror_mode": {
    "name": "ipython",
    "version": 3
   },
   "file_extension": ".py",
   "mimetype": "text/x-python",
   "name": "python",
   "nbconvert_exporter": "python",
   "pygments_lexer": "ipython3",
   "version": "3.8.8"
  },
  "orig_nbformat": 4
 },
 "nbformat": 4,
 "nbformat_minor": 2
}
